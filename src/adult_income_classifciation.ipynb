{
 "cells": [
  {
   "cell_type": "code",
   "execution_count": 99,
   "metadata": {},
   "outputs": [],
   "source": [
    "__author__: \"Matt Canrey\"\n",
    "__date__ : \"20220816\"\n",
    "__stage__: \"Dev\"\n",
    "__Version__: \"0.0.1\""
   ]
  },
  {
   "cell_type": "markdown",
   "metadata": {},
   "source": [
    "## Import Libraries"
   ]
  },
  {
   "cell_type": "code",
   "execution_count": 100,
   "metadata": {},
   "outputs": [],
   "source": [
    "import pandas as pd\n",
    "import numpy as np\n",
    "import matplotlib.pyplot as plt\n",
    "import seaborn as sns\n",
    "import os\n",
    "\n",
    "from sklearn.model_selection import train_test_split, cross_validate, cross_val_score, KFold"
   ]
  },
  {
   "cell_type": "markdown",
   "metadata": {},
   "source": [
    "## Directory"
   ]
  },
  {
   "cell_type": "code",
   "execution_count": 101,
   "metadata": {},
   "outputs": [],
   "source": [
    "# Configure root, src, and data filepaths\n",
    "fp_root = os.getcwd().replace('src', '')\n",
    "fp_src = os.path.join(fp_root, 'src')\n",
    "fp_data = os.path.join(fp_root, 'data')"
   ]
  },
  {
   "cell_type": "markdown",
   "metadata": {},
   "source": [
    "## Import Data"
   ]
  },
  {
   "cell_type": "code",
   "execution_count": 102,
   "metadata": {},
   "outputs": [],
   "source": [
    "# Import adult income data\n",
    "income_csv = os.path.join(fp_data, 'adult.csv')\n",
    "df_income = pd.read_csv(income_csv)"
   ]
  },
  {
   "cell_type": "markdown",
   "metadata": {},
   "source": [
    "## Cleaning and EDA"
   ]
  },
  {
   "cell_type": "code",
   "execution_count": 103,
   "metadata": {},
   "outputs": [
    {
     "name": "stdout",
     "output_type": "stream",
     "text": [
      "<class 'pandas.core.frame.DataFrame'>\n",
      "RangeIndex: 48842 entries, 0 to 48841\n",
      "Data columns (total 15 columns):\n",
      " #   Column           Non-Null Count  Dtype \n",
      "---  ------           --------------  ----- \n",
      " 0   age              48842 non-null  int64 \n",
      " 1   workclass        48842 non-null  object\n",
      " 2   fnlwgt           48842 non-null  int64 \n",
      " 3   education        48842 non-null  object\n",
      " 4   educational-num  48842 non-null  int64 \n",
      " 5   marital-status   48842 non-null  object\n",
      " 6   occupation       48842 non-null  object\n",
      " 7   relationship     48842 non-null  object\n",
      " 8   race             48842 non-null  object\n",
      " 9   gender           48842 non-null  object\n",
      " 10  capital-gain     48842 non-null  int64 \n",
      " 11  capital-loss     48842 non-null  int64 \n",
      " 12  hours-per-week   48842 non-null  int64 \n",
      " 13  native-country   48842 non-null  object\n",
      " 14  income           48842 non-null  object\n",
      "dtypes: int64(6), object(9)\n",
      "memory usage: 5.6+ MB\n"
     ]
    }
   ],
   "source": [
    "df_income.shape\n",
    "df_income.info()"
   ]
  },
  {
   "cell_type": "code",
   "execution_count": 104,
   "metadata": {},
   "outputs": [],
   "source": [
    "# Check for NAs - No NAs\n",
    "#for i in df_income.columns:\n",
    "#    print(i, df_income[i].isna().sum())"
   ]
  },
  {
   "cell_type": "code",
   "execution_count": 105,
   "metadata": {},
   "outputs": [
    {
     "data": {
      "text/plain": [
       "<AxesSubplot:>"
      ]
     },
     "execution_count": 105,
     "metadata": {},
     "output_type": "execute_result"
    },
    {
     "data": {
      "image/png": "[encoded data removed]",
      "text/plain": [
       "<Figure size 432x288 with 1 Axes>"
      ]
     },
     "metadata": {
      "needs_background": "light"
     },
     "output_type": "display_data"
    }
   ],
   "source": [
    "sns.boxplot(data=df_income['fnlwgt'])"
   ]
  },
  {
   "cell_type": "code",
   "execution_count": 106,
   "metadata": {},
   "outputs": [],
   "source": [
    "# Remove outliers\n",
    "num_cols = df_income.select_dtypes(int).columns\n",
    "for col in num_cols:\n",
    "    nine_five =  df_income[col].quantile(0.95)\n",
    "    five = df_income[col].quantile(0.05)\n",
    "    df_income = df_income[(df_income[col] <= nine_five) | (df_income[col] <= five)]\n"
   ]
  },
  {
   "cell_type": "markdown",
   "metadata": {},
   "source": [
    "## Pre-processing"
   ]
  },
  {
   "cell_type": "code",
   "execution_count": 108,
   "metadata": {},
   "outputs": [],
   "source": [
    "# Categorical Encoding\n",
    "df_income = pd.get_dummies(df_income.select_dtypes(include='object'), drop_first=1) # gender_Male new target variable\n",
    "\n",
    "# Target and features\n",
    "y = df_income['gender_Male']\n",
    "X = df_income.drop(columns= 'gender_Male')\n",
    "\n",
    "# Train Test Split\n",
    "X_train, X_test, y_train, y_test = train_test_split(X,y, test_size=0.20, random_state=123, stratify=y)\n"
   ]
  },
  {
   "cell_type": "markdown",
   "metadata": {},
   "source": [
    "## Baseline Modeling"
   ]
  },
  {
   "cell_type": "code",
   "execution_count": 124,
   "metadata": {},
   "outputs": [],
   "source": [
    "from sklearn.tree import DecisionTreeClassifier\n",
    "from sklearn.ensemble import RandomForestClassifier, GradientBoostingClassifier\n",
    "from sklearn.pipeline import Pipeline\n",
    "from sklearn.metrics import accuracy_score, confusion_matrix, classification_report, f1_score, precision_score, recall_score"
   ]
  },
  {
   "cell_type": "code",
   "execution_count": 110,
   "metadata": {},
   "outputs": [],
   "source": [
    "def baseline_models(X_train, y_train, cv=5):\n",
    "        \"\"\"\n",
    "        Inputs: Feature training data, target training data\n",
    "        Outputs: Dataframe of baseline model performance from models\n",
    "        \"\"\"\n",
    "        # Metrics\n",
    "        metrics = ['accuracy', 'roc_auc']\n",
    "\n",
    "        # Transformers\n",
    "        #scaler = StandardScaler()\n",
    "\n",
    "        # Models\n",
    "        dt = DecisionTreeClassifier(random_state=123)\n",
    "        rf = RandomForestClassifier(random_state=123)\n",
    "        gb = GradientBoostingClassifier(random_state=123)\n",
    "        baseline_models =  [('Decision Tree Classifier', dt),\n",
    "                        ('Random Forest Classifier', rf),\n",
    "                        ('Gradient Boosting Classifier', gb)]\n",
    "\n",
    "        # Create dataframe to aggregate performance\n",
    "        cols = ['Model', 'Fit Time', 'Train accuracy', 'Test accuracy', 'Train ROC AUC', 'Test ROC AUC']\n",
    "        df_baseline = pd.DataFrame(columns=cols)\n",
    "\n",
    "        for model_name, model in baseline_models:\n",
    "                pipeline = Pipeline(steps=[\n",
    "                                #('transfomer', scaler),\n",
    "                                ('models', model)])\n",
    "\n",
    "                cv_results = cross_validate(pipeline, X_train, y_train, cv=cv, scoring = metrics, return_train_score=True)\n",
    "                \n",
    "                vals = [model_name, cv_results['fit_time'].mean(),\n",
    "                        cv_results['train_accuracy'].mean(), \n",
    "                        cv_results['test_accuracy'].mean(),\n",
    "                        cv_results['train_roc_auc'].mean(),\n",
    "                        cv_results['test_roc_auc'].mean()]\n",
    "                \n",
    "                df_baseline.loc[len(df_baseline)] = vals\n",
    "        \n",
    "                #pipelines.append(pipeline)\n",
    "        #print(f\"{model_name} complete\")\n",
    "        return df_baseline"
   ]
  },
  {
   "cell_type": "code",
   "execution_count": 111,
   "metadata": {},
   "outputs": [],
   "source": [
    "# Run Model\n",
    "df_baseline = baseline_models(X_train, y_train)"
   ]
  },
  {
   "cell_type": "code",
   "execution_count": 112,
   "metadata": {},
   "outputs": [
    {
     "data": {
      "text/html": [
       "<div>\n",
       "<style scoped>\n",
       "    .dataframe tbody tr th:only-of-type {\n",
       "        vertical-align: middle;\n",
       "    }\n",
       "\n",
       "    .dataframe tbody tr th {\n",
       "        vertical-align: top;\n",
       "    }\n",
       "\n",
       "    .dataframe thead th {\n",
       "        text-align: right;\n",
       "    }\n",
       "</style>\n",
       "<table border=\"1\" class=\"dataframe\">\n",
       "  <thead>\n",
       "    <tr style=\"text-align: right;\">\n",
       "      <th></th>\n",
       "      <th>Model</th>\n",
       "      <th>Fit Time</th>\n",
       "      <th>Train accuracy</th>\n",
       "      <th>Test accuracy</th>\n",
       "      <th>Train ROC AUC</th>\n",
       "      <th>Test ROC AUC</th>\n",
       "    </tr>\n",
       "  </thead>\n",
       "  <tbody>\n",
       "    <tr>\n",
       "      <th>0</th>\n",
       "      <td>Decision Tree Classifier</td>\n",
       "      <td>0.126051</td>\n",
       "      <td>0.885809</td>\n",
       "      <td>0.813838</td>\n",
       "      <td>0.965821</td>\n",
       "      <td>0.865501</td>\n",
       "    </tr>\n",
       "    <tr>\n",
       "      <th>1</th>\n",
       "      <td>Random Forest Classifier</td>\n",
       "      <td>2.154116</td>\n",
       "      <td>0.885800</td>\n",
       "      <td>0.820783</td>\n",
       "      <td>0.963543</td>\n",
       "      <td>0.910128</td>\n",
       "    </tr>\n",
       "    <tr>\n",
       "      <th>2</th>\n",
       "      <td>Gradient Boosting Classifier</td>\n",
       "      <td>2.890463</td>\n",
       "      <td>0.830669</td>\n",
       "      <td>0.828393</td>\n",
       "      <td>0.924179</td>\n",
       "      <td>0.921444</td>\n",
       "    </tr>\n",
       "  </tbody>\n",
       "</table>\n",
       "</div>"
      ],
      "text/plain": [
       "                          Model  Fit Time  Train accuracy  Test accuracy  \\\n",
       "0      Decision Tree Classifier  0.126051        0.885809       0.813838   \n",
       "1      Random Forest Classifier  2.154116        0.885800       0.820783   \n",
       "2  Gradient Boosting Classifier  2.890463        0.830669       0.828393   \n",
       "\n",
       "   Train ROC AUC  Test ROC AUC  \n",
       "0       0.965821      0.865501  \n",
       "1       0.963543      0.910128  \n",
       "2       0.924179      0.921444  "
      ]
     },
     "execution_count": 112,
     "metadata": {},
     "output_type": "execute_result"
    }
   ],
   "source": [
    "df_baseline"
   ]
  },
  {
   "cell_type": "markdown",
   "metadata": {},
   "source": [
    "## Model Assessment"
   ]
  },
  {
   "cell_type": "code",
   "execution_count": 113,
   "metadata": {},
   "outputs": [
    {
     "data": {
      "text/plain": [
       "GradientBoostingClassifier(random_state=123)"
      ]
     },
     "execution_count": 113,
     "metadata": {},
     "output_type": "execute_result"
    }
   ],
   "source": [
    "# FIt selected model \n",
    "gb = GradientBoostingClassifier(random_state=123)\n",
    "gb.fit(X_train, y_train)\n"
   ]
  },
  {
   "cell_type": "code",
   "execution_count": 119,
   "metadata": {},
   "outputs": [
    {
     "data": {
      "text/plain": [
       "0.8184235012627941"
      ]
     },
     "execution_count": 119,
     "metadata": {},
     "output_type": "execute_result"
    }
   ],
   "source": [
    "y_pred = gb.predict(X_test)\n",
    "acc = accuracy_score(y_test, y_pred)\n",
    "acc"
   ]
  },
  {
   "cell_type": "code",
   "execution_count": 123,
   "metadata": {},
   "outputs": [
    {
     "data": {
      "image/png": "[encoded data removed]",
      "text/plain": [
       "<Figure size 480x320 with 2 Axes>"
      ]
     },
     "metadata": {},
     "output_type": "display_data"
    }
   ],
   "source": [
    "# Confusion matrix heat map\n",
    "# Confusion Matrix\n",
    "cv_confusion = confusion_matrix(y_test, y_pred)\n",
    "\n",
    "plt.figure(dpi=80)\n",
    "sns.heatmap(cv_confusion, cmap=plt.cm.Blues, annot=True, square=True, fmt=\"d\",\n",
    "           xticklabels=['Female', 'Male'],\n",
    "           yticklabels=['Female', 'Male'])\n",
    "plt.gcf().set_facecolor('white')\n",
    "plt.xlabel('Predicted')\n",
    "plt.ylabel('Actual')\n",
    "plt.title('Gradient Boosted Confustion Matrix');"
   ]
  },
  {
   "cell_type": "code",
   "execution_count": null,
   "metadata": {},
   "outputs": [],
   "source": []
  },
  {
   "cell_type": "code",
   "execution_count": 125,
   "metadata": {},
   "outputs": [
    {
     "name": "stderr",
     "output_type": "stream",
     "text": [
      "c:\\Users\\mcarney\\Anaconda3\\lib\\site-packages\\sklearn\\metrics\\_classification.py:1318: UndefinedMetricWarning: Precision is ill-defined and being set to 0.0 due to no predicted samples. Use `zero_division` parameter to control this behavior.\n",
      "  _warn_prf(average, modifier, msg_start, len(result))\n"
     ]
    },
    {
     "data": {
      "text/html": [
       "<div>\n",
       "<style scoped>\n",
       "    .dataframe tbody tr th:only-of-type {\n",
       "        vertical-align: middle;\n",
       "    }\n",
       "\n",
       "    .dataframe tbody tr th {\n",
       "        vertical-align: top;\n",
       "    }\n",
       "\n",
       "    .dataframe thead th {\n",
       "        text-align: right;\n",
       "    }\n",
       "</style>\n",
       "<table border=\"1\" class=\"dataframe\">\n",
       "  <thead>\n",
       "    <tr style=\"text-align: right;\">\n",
       "      <th></th>\n",
       "      <th>Threshold</th>\n",
       "      <th>F1 Score</th>\n",
       "      <th>Precision</th>\n",
       "      <th>Recall</th>\n",
       "      <th>True_Negative</th>\n",
       "      <th>False_Positive</th>\n",
       "      <th>False_Negative</th>\n",
       "      <th>True_Positive</th>\n",
       "    </tr>\n",
       "  </thead>\n",
       "  <tbody>\n",
       "    <tr>\n",
       "      <th>0</th>\n",
       "      <td>0.0</td>\n",
       "      <td>0.783277</td>\n",
       "      <td>0.643759</td>\n",
       "      <td>1.000000</td>\n",
       "      <td>0</td>\n",
       "      <td>2680</td>\n",
       "      <td>0</td>\n",
       "      <td>4843</td>\n",
       "    </tr>\n",
       "    <tr>\n",
       "      <th>1</th>\n",
       "      <td>0.1</td>\n",
       "      <td>0.820391</td>\n",
       "      <td>0.696983</td>\n",
       "      <td>0.996903</td>\n",
       "      <td>581</td>\n",
       "      <td>2099</td>\n",
       "      <td>15</td>\n",
       "      <td>4828</td>\n",
       "    </tr>\n",
       "    <tr>\n",
       "      <th>2</th>\n",
       "      <td>0.2</td>\n",
       "      <td>0.841587</td>\n",
       "      <td>0.733068</td>\n",
       "      <td>0.987817</td>\n",
       "      <td>938</td>\n",
       "      <td>1742</td>\n",
       "      <td>59</td>\n",
       "      <td>4784</td>\n",
       "    </tr>\n",
       "    <tr>\n",
       "      <th>3</th>\n",
       "      <td>0.3</td>\n",
       "      <td>0.858072</td>\n",
       "      <td>0.779841</td>\n",
       "      <td>0.953748</td>\n",
       "      <td>1376</td>\n",
       "      <td>1304</td>\n",
       "      <td>224</td>\n",
       "      <td>4619</td>\n",
       "    </tr>\n",
       "    <tr>\n",
       "      <th>4</th>\n",
       "      <td>0.4</td>\n",
       "      <td>0.862252</td>\n",
       "      <td>0.795705</td>\n",
       "      <td>0.940946</td>\n",
       "      <td>1510</td>\n",
       "      <td>1170</td>\n",
       "      <td>286</td>\n",
       "      <td>4557</td>\n",
       "    </tr>\n",
       "    <tr>\n",
       "      <th>5</th>\n",
       "      <td>0.5</td>\n",
       "      <td>0.854464</td>\n",
       "      <td>0.882677</td>\n",
       "      <td>0.827999</td>\n",
       "      <td>2147</td>\n",
       "      <td>533</td>\n",
       "      <td>833</td>\n",
       "      <td>4010</td>\n",
       "    </tr>\n",
       "    <tr>\n",
       "      <th>6</th>\n",
       "      <td>0.6</td>\n",
       "      <td>0.841406</td>\n",
       "      <td>0.944473</td>\n",
       "      <td>0.758621</td>\n",
       "      <td>2464</td>\n",
       "      <td>216</td>\n",
       "      <td>1169</td>\n",
       "      <td>3674</td>\n",
       "    </tr>\n",
       "    <tr>\n",
       "      <th>7</th>\n",
       "      <td>0.7</td>\n",
       "      <td>0.826087</td>\n",
       "      <td>0.965479</td>\n",
       "      <td>0.721867</td>\n",
       "      <td>2555</td>\n",
       "      <td>125</td>\n",
       "      <td>1347</td>\n",
       "      <td>3496</td>\n",
       "    </tr>\n",
       "    <tr>\n",
       "      <th>8</th>\n",
       "      <td>0.8</td>\n",
       "      <td>0.814583</td>\n",
       "      <td>0.976067</td>\n",
       "      <td>0.698947</td>\n",
       "      <td>2597</td>\n",
       "      <td>83</td>\n",
       "      <td>1458</td>\n",
       "      <td>3385</td>\n",
       "    </tr>\n",
       "    <tr>\n",
       "      <th>9</th>\n",
       "      <td>0.9</td>\n",
       "      <td>0.725266</td>\n",
       "      <td>0.997110</td>\n",
       "      <td>0.569895</td>\n",
       "      <td>2672</td>\n",
       "      <td>8</td>\n",
       "      <td>2083</td>\n",
       "      <td>2760</td>\n",
       "    </tr>\n",
       "    <tr>\n",
       "      <th>10</th>\n",
       "      <td>1.0</td>\n",
       "      <td>0.000000</td>\n",
       "      <td>0.000000</td>\n",
       "      <td>0.000000</td>\n",
       "      <td>2680</td>\n",
       "      <td>0</td>\n",
       "      <td>4843</td>\n",
       "      <td>0</td>\n",
       "    </tr>\n",
       "  </tbody>\n",
       "</table>\n",
       "</div>"
      ],
      "text/plain": [
       "    Threshold  F1 Score  Precision    Recall  True_Negative  False_Positive  \\\n",
       "0         0.0  0.783277   0.643759  1.000000              0            2680   \n",
       "1         0.1  0.820391   0.696983  0.996903            581            2099   \n",
       "2         0.2  0.841587   0.733068  0.987817            938            1742   \n",
       "3         0.3  0.858072   0.779841  0.953748           1376            1304   \n",
       "4         0.4  0.862252   0.795705  0.940946           1510            1170   \n",
       "5         0.5  0.854464   0.882677  0.827999           2147             533   \n",
       "6         0.6  0.841406   0.944473  0.758621           2464             216   \n",
       "7         0.7  0.826087   0.965479  0.721867           2555             125   \n",
       "8         0.8  0.814583   0.976067  0.698947           2597              83   \n",
       "9         0.9  0.725266   0.997110  0.569895           2672               8   \n",
       "10        1.0  0.000000   0.000000  0.000000           2680               0   \n",
       "\n",
       "    False_Negative  True_Positive  \n",
       "0                0           4843  \n",
       "1               15           4828  \n",
       "2               59           4784  \n",
       "3              224           4619  \n",
       "4              286           4557  \n",
       "5              833           4010  \n",
       "6             1169           3674  \n",
       "7             1347           3496  \n",
       "8             1458           3385  \n",
       "9             2083           2760  \n",
       "10            4843              0  "
      ]
     },
     "execution_count": 125,
     "metadata": {},
     "output_type": "execute_result"
    }
   ],
   "source": [
    "#Generate data frame of model test statistics\n",
    "y_probs = gb.predict_proba(X_test)[:,1]\n",
    "thresholds = []\n",
    "f1 = []\n",
    "precisions = []\n",
    "recall = []\n",
    "tn = []\n",
    "fp = []\n",
    "fn = []\n",
    "tp = []\n",
    "\n",
    "for t in range(0,105,10):\n",
    "    y_pred = pd.Series(y_probs).apply(lambda x: 0 if x<t/100 else 1)\n",
    "    thresholds.append(t/100)\n",
    "    f1.append(f1_score(y_test, y_pred))\n",
    "    precisions.append(precision_score(y_test, y_pred))\n",
    "    recall.append(recall_score(y_test, y_pred))\n",
    "    tn.append(confusion_matrix(y_test, y_pred)[0][0])\n",
    "    fp.append(confusion_matrix(y_test, y_pred)[0][1])\n",
    "    fn.append(confusion_matrix(y_test, y_pred)[1][0])\n",
    "    tp.append(confusion_matrix(y_test, y_pred)[1][1])\n",
    "    \n",
    "\n",
    "test_statistics = pd.DataFrame(\n",
    "    {'Threshold': thresholds,\n",
    "     'F1 Score' : f1,\n",
    "     'Precision': precisions,\n",
    "     'Recall' : recall,\n",
    "     'True_Negative': tn,\n",
    "     'False_Positive': fp,\n",
    "     'False_Negative': fn,\n",
    "     'True_Positive': tp,\n",
    "    })\n",
    "\n",
    "test_statistics"
   ]
  },
  {
   "cell_type": "code",
   "execution_count": 127,
   "metadata": {},
   "outputs": [
    {
     "data": {
      "text/plain": [
       "Text(0.5, 0, 'Threshold')"
      ]
     },
     "execution_count": 127,
     "metadata": {},
     "output_type": "execute_result"
    },
    {
     "data": {
      "image/png": "[encoded data removed]",
      "text/plain": [
       "<Figure size 432x288 with 1 Axes>"
      ]
     },
     "metadata": {
      "needs_background": "light"
     },
     "output_type": "display_data"
    }
   ],
   "source": [
    "plt.stackplot(areaplot['Threshold'], areaplot['Over Budget'])\n",
    "plt.title('Net Predicted Budget vs Threshold')\n",
    "plt.ylabel('Net Predicted Budget ($)')\n",
    "plt.xlabel('Threshold')"
   ]
  },
  {
   "cell_type": "code",
   "execution_count": 128,
   "metadata": {},
   "outputs": [
    {
     "name": "stderr",
     "output_type": "stream",
     "text": [
      "C:\\Users\\mcarney\\AppData\\Local\\Temp/ipykernel_18988/200036397.py:2: SettingWithCopyWarning: \n",
      "A value is trying to be set on a copy of a slice from a DataFrame.\n",
      "Try using .loc[row_indexer,col_indexer] = value instead\n",
      "\n",
      "See the caveats in the documentation: https://pandas.pydata.org/pandas-docs/stable/user_guide/indexing.html#returning-a-view-versus-a-copy\n",
      "  areaplot['Predicted Cost'] = (test_statistics['False_Positive'] + test_statistics['True_Positive']) *50000\n",
      "C:\\Users\\mcarney\\AppData\\Local\\Temp/ipykernel_18988/200036397.py:3: SettingWithCopyWarning: \n",
      "A value is trying to be set on a copy of a slice from a DataFrame.\n",
      "Try using .loc[row_indexer,col_indexer] = value instead\n",
      "\n",
      "See the caveats in the documentation: https://pandas.pydata.org/pandas-docs/stable/user_guide/indexing.html#returning-a-view-versus-a-copy\n",
      "  areaplot['Actual Cost'] = (test_statistics['False_Negative'] + test_statistics['True_Positive']) * 50000\n"
     ]
    }
   ],
   "source": [
    "areaplot = test_statistics[['Threshold', 'False_Positive', 'False_Negative', 'True_Positive']]\n",
    "areaplot['Predicted Cost'] = (test_statistics['False_Positive'] + test_statistics['True_Positive']) *50000\n",
    "areaplot['Actual Cost'] = (test_statistics['False_Negative'] + test_statistics['True_Positive']) * 50000\n",
    "#areaplot['Actual Cost'] = (180000 - areaplot['Predicted Cost'])\n",
    "areaplot['Over Budget'] = areaplot['Predicted Cost'] - 1800000\n",
    "#areapl = areaplot[['Threshold', 'Predicted Cost', 'Actual Cost']]"
   ]
  },
  {
   "cell_type": "code",
   "execution_count": null,
   "metadata": {},
   "outputs": [],
   "source": []
  }
 ],
 "metadata": {
  "kernelspec": {
   "display_name": "Python 3.9.7 ('base')",
   "language": "python",
   "name": "python3"
  },
  "language_info": {
   "codemirror_mode": {
    "name": "ipython",
    "version": 3
   },
   "file_extension": ".py",
   "mimetype": "text/x-python",
   "name": "python",
   "nbconvert_exporter": "python",
   "pygments_lexer": "ipython3",
   "version": "3.9.7"
  },
  "orig_nbformat": 4,
  "vscode": {
   "interpreter": {
    "hash": "01ad78d966099ed9862b86a390874b9333c105ea4e4903e73ac58375f35e21c4"
   }
  }
 },
 "nbformat": 4,
 "nbformat_minor": 2
}
