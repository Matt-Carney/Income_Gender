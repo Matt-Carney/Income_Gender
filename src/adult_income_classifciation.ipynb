{
 "cells": [
  {
   "cell_type": "code",
   "execution_count": 1,
   "metadata": {},
   "outputs": [],
   "source": [
    "__author__: \"Matt Canrey\"\n",
    "__date__ : \"20220816\"\n",
    "__stage__: \"Dev\"\n",
    "__Version__: \"0.0.1\""
   ]
  },
  {
   "cell_type": "markdown",
   "metadata": {},
   "source": [
    "## Import Libraries"
   ]
  },
  {
   "cell_type": "code",
   "execution_count": 3,
   "metadata": {},
   "outputs": [],
   "source": [
    "import pandas as pd\n",
    "import numpy as np\n",
    "import matplotlib.pyplot as plt\n",
    "import seaborn as sns\n",
    "import os\n",
    "\n",
    "from sklearn.model_selection import train_test_split, cross_validate, cross_val_score, KFold, learning_curve\n",
    "from sklearn.tree import DecisionTreeClassifier, plot_tree, export_graphviz\n",
    "from sklearn.ensemble import RandomForestClassifier, GradientBoostingClassifier\n",
    "from sklearn.pipeline import Pipeline\n",
    "from sklearn.metrics import accuracy_score, confusion_matrix, classification_report, f1_score, precision_score, recall_score\n",
    "from graphviz import Source\n",
    "from sklearn.pipeline import Pipeline\n",
    "from sklearn.preprocessing import StandardScaler\n",
    "from sklearn.inspection import permutation_importance\n",
    "from re import sub\n",
    "\n"
   ]
  },
  {
   "cell_type": "markdown",
   "metadata": {},
   "source": [
    "## Directory"
   ]
  },
  {
   "cell_type": "code",
   "execution_count": 4,
   "metadata": {},
   "outputs": [],
   "source": [
    "# Configure root, src, and data filepaths\n",
    "fp_root = os.getcwd().replace('src', '')\n",
    "fp_src = os.path.join(fp_root, 'src')\n",
    "fp_data = os.path.join(fp_root, 'data')"
   ]
  },
  {
   "cell_type": "markdown",
   "metadata": {},
   "source": [
    "## Import Data"
   ]
  },
  {
   "cell_type": "code",
   "execution_count": 5,
   "metadata": {},
   "outputs": [],
   "source": [
    "# Import adult income data\n",
    "income_csv = os.path.join(fp_data, 'adult.csv')\n",
    "df_income = pd.read_csv(income_csv)"
   ]
  },
  {
   "cell_type": "markdown",
   "metadata": {},
   "source": [
    "## Cleaning and EDA"
   ]
  },
  {
   "cell_type": "code",
   "execution_count": 6,
   "metadata": {},
   "outputs": [
    {
     "name": "stdout",
     "output_type": "stream",
     "text": [
      "<class 'pandas.core.frame.DataFrame'>\n",
      "RangeIndex: 48842 entries, 0 to 48841\n",
      "Data columns (total 15 columns):\n",
      " #   Column           Non-Null Count  Dtype \n",
      "---  ------           --------------  ----- \n",
      " 0   age              48842 non-null  int64 \n",
      " 1   workclass        48842 non-null  object\n",
      " 2   fnlwgt           48842 non-null  int64 \n",
      " 3   education        48842 non-null  object\n",
      " 4   educational-num  48842 non-null  int64 \n",
      " 5   marital-status   48842 non-null  object\n",
      " 6   occupation       48842 non-null  object\n",
      " 7   relationship     48842 non-null  object\n",
      " 8   race             48842 non-null  object\n",
      " 9   gender           48842 non-null  object\n",
      " 10  capital-gain     48842 non-null  int64 \n",
      " 11  capital-loss     48842 non-null  int64 \n",
      " 12  hours-per-week   48842 non-null  int64 \n",
      " 13  native-country   48842 non-null  object\n",
      " 14  income           48842 non-null  object\n",
      "dtypes: int64(6), object(9)\n",
      "memory usage: 5.6+ MB\n"
     ]
    }
   ],
   "source": [
    "df_income.shape\n",
    "df_income.info()"
   ]
  },
  {
   "cell_type": "code",
   "execution_count": 7,
   "metadata": {},
   "outputs": [],
   "source": [
    "# Check for NAs - No NAs\n",
    "#for i in df_income.columns:\n",
    "#    print(i, df_income[i].isna().sum())"
   ]
  },
  {
   "cell_type": "code",
   "execution_count": 8,
   "metadata": {},
   "outputs": [
    {
     "data": {
      "text/plain": [
       "<AxesSubplot:>"
      ]
     },
     "execution_count": 8,
     "metadata": {},
     "output_type": "execute_result"
    },
    {
     "data": {
      "image/png": "[encoded data removed]",
      "text/plain": [
       "<Figure size 432x288 with 1 Axes>"
      ]
     },
     "metadata": {
      "needs_background": "light"
     },
     "output_type": "display_data"
    }
   ],
   "source": [
    "sns.boxplot(data=df_income['fnlwgt'])"
   ]
  },
  {
   "cell_type": "code",
   "execution_count": 9,
   "metadata": {},
   "outputs": [],
   "source": [
    "# Remove outliers\n",
    "num_cols = df_income.select_dtypes(int).columns\n",
    "for col in num_cols:\n",
    "    nine_five =  df_income[col].quantile(0.95)\n",
    "    five = df_income[col].quantile(0.05)\n",
    "    df_income = df_income[(df_income[col] <= nine_five) | (df_income[col] <= five)]\n"
   ]
  },
  {
   "cell_type": "markdown",
   "metadata": {},
   "source": [
    "## Pre-processing"
   ]
  },
  {
   "cell_type": "code",
   "execution_count": 10,
   "metadata": {},
   "outputs": [],
   "source": [
    "import category_encoders as ce"
   ]
  },
  {
   "cell_type": "code",
   "execution_count": 11,
   "metadata": {},
   "outputs": [],
   "source": [
    "# Categorical Encoding\n",
    "# Create binary target variable\n",
    "gender_dict = {'Male': 1,\n",
    "               'Female': 0}\n",
    "df_income['gender'] = df_income['gender'].map(gender_dict)\n",
    "\n",
    "# Target encode categorical features\n",
    "cat_cols = df_income.select_dtypes(include='object').columns\n",
    "target_enc = ce.TargetEncoder()\n",
    "df_icnome_cat = target_enc.fit_transform(df_income[cat_cols], df_income['gender'])\n",
    "df_income[cat_cols] = df_icnome_cat\n"
   ]
  },
  {
   "cell_type": "code",
   "execution_count": 12,
   "metadata": {},
   "outputs": [],
   "source": [
    "# Train test split\n",
    "# Target and features\n",
    "y = df_income['gender']\n",
    "X = df_income.drop(columns= 'gender')\n",
    "\n",
    "\n",
    "# Train Test Split\n",
    "X_train, X_test, y_train, y_test = train_test_split(X,y, test_size=0.20, random_state=123, stratify=y)\n"
   ]
  },
  {
   "cell_type": "markdown",
   "metadata": {},
   "source": [
    "## Baseline Modeling"
   ]
  },
  {
   "cell_type": "code",
   "execution_count": 13,
   "metadata": {},
   "outputs": [],
   "source": [
    "def baseline_models(X_train, y_train, cv=5):\n",
    "        \"\"\"\n",
    "        Inputs: Feature training data, target training data\n",
    "        Outputs: Dataframe of baseline model performance from models\n",
    "        \"\"\"\n",
    "        # Metrics\n",
    "        metrics = ['accuracy', 'roc_auc']\n",
    "\n",
    "        # Transformers\n",
    "        #scaler = StandardScaler()\n",
    "\n",
    "        # Models\n",
    "        dt = DecisionTreeClassifier(random_state=123)\n",
    "        rf = RandomForestClassifier(random_state=123)\n",
    "        gb = GradientBoostingClassifier(random_state=123)\n",
    "        baseline_models =  [('Decision Tree Classifier', dt),\n",
    "                        ('Random Forest Classifier', rf),\n",
    "                        ('Gradient Boosting Classifier', gb)]\n",
    "\n",
    "        # Create dataframe to aggregate performance\n",
    "        cols = ['Model', 'Fit Time', 'Train accuracy', 'Test accuracy', 'Train ROC AUC', 'Test ROC AUC']\n",
    "        df_baseline = pd.DataFrame(columns=cols)\n",
    "\n",
    "        # Pipeline\n",
    "        pipelines = []\n",
    "\n",
    "        for model_name, model in baseline_models:\n",
    "                pipeline = Pipeline(steps=[\n",
    "                                #('transfomer', scaler),\n",
    "                                ('models', model)])\n",
    "\n",
    "                cv_results = cross_validate(pipeline, X_train, y_train, cv=cv, scoring = metrics, return_train_score=True)\n",
    "                \n",
    "                vals = [model_name, cv_results['fit_time'].mean(),\n",
    "                        cv_results['train_accuracy'].mean(), \n",
    "                        cv_results['test_accuracy'].mean(),\n",
    "                        cv_results['train_roc_auc'].mean(),\n",
    "                        cv_results['test_roc_auc'].mean()]\n",
    "                \n",
    "                df_baseline.loc[len(df_baseline)] = vals\n",
    "        \n",
    "                pipelines.append(pipeline)\n",
    "        #print(f\"{model_name} complete\")\n",
    "        return df_baseline, pipelines"
   ]
  },
  {
   "cell_type": "code",
   "execution_count": 14,
   "metadata": {},
   "outputs": [],
   "source": [
    "# Run Model\n",
    "df_baseline, pipes = baseline_models(X_train, y_train)"
   ]
  },
  {
   "cell_type": "code",
   "execution_count": 15,
   "metadata": {},
   "outputs": [
    {
     "data": {
      "text/html": [
       "<div>\n",
       "<style scoped>\n",
       "    .dataframe tbody tr th:only-of-type {\n",
       "        vertical-align: middle;\n",
       "    }\n",
       "\n",
       "    .dataframe tbody tr th {\n",
       "        vertical-align: top;\n",
       "    }\n",
       "\n",
       "    .dataframe thead th {\n",
       "        text-align: right;\n",
       "    }\n",
       "</style>\n",
       "<table border=\"1\" class=\"dataframe\">\n",
       "  <thead>\n",
       "    <tr style=\"text-align: right;\">\n",
       "      <th></th>\n",
       "      <th>Model</th>\n",
       "      <th>Fit Time</th>\n",
       "      <th>Train accuracy</th>\n",
       "      <th>Test accuracy</th>\n",
       "      <th>Train ROC AUC</th>\n",
       "      <th>Test ROC AUC</th>\n",
       "    </tr>\n",
       "  </thead>\n",
       "  <tbody>\n",
       "    <tr>\n",
       "      <th>0</th>\n",
       "      <td>Decision Tree Classifier</td>\n",
       "      <td>0.065467</td>\n",
       "      <td>1.000000</td>\n",
       "      <td>0.794829</td>\n",
       "      <td>1.000000</td>\n",
       "      <td>0.775842</td>\n",
       "    </tr>\n",
       "    <tr>\n",
       "      <th>1</th>\n",
       "      <td>Random Forest Classifier</td>\n",
       "      <td>1.423410</td>\n",
       "      <td>1.000000</td>\n",
       "      <td>0.834674</td>\n",
       "      <td>1.000000</td>\n",
       "      <td>0.922324</td>\n",
       "    </tr>\n",
       "    <tr>\n",
       "      <th>2</th>\n",
       "      <td>Gradient Boosting Classifier</td>\n",
       "      <td>1.803560</td>\n",
       "      <td>0.842466</td>\n",
       "      <td>0.837831</td>\n",
       "      <td>0.931447</td>\n",
       "      <td>0.927626</td>\n",
       "    </tr>\n",
       "  </tbody>\n",
       "</table>\n",
       "</div>"
      ],
      "text/plain": [
       "                          Model  Fit Time  Train accuracy  Test accuracy  \\\n",
       "0      Decision Tree Classifier  0.065467        1.000000       0.794829   \n",
       "1      Random Forest Classifier  1.423410        1.000000       0.834674   \n",
       "2  Gradient Boosting Classifier  1.803560        0.842466       0.837831   \n",
       "\n",
       "   Train ROC AUC  Test ROC AUC  \n",
       "0       1.000000      0.775842  \n",
       "1       1.000000      0.922324  \n",
       "2       0.931447      0.927626  "
      ]
     },
     "execution_count": 15,
     "metadata": {},
     "output_type": "execute_result"
    }
   ],
   "source": [
    "df_baseline"
   ]
  },
  {
   "cell_type": "code",
   "execution_count": 16,
   "metadata": {},
   "outputs": [
    {
     "data": {
      "text/plain": [
       "[Pipeline(steps=[('models', DecisionTreeClassifier(random_state=123))]),\n",
       " Pipeline(steps=[('models', RandomForestClassifier(random_state=123))]),\n",
       " Pipeline(steps=[('models', GradientBoostingClassifier(random_state=123))])]"
      ]
     },
     "execution_count": 16,
     "metadata": {},
     "output_type": "execute_result"
    }
   ],
   "source": [
    "pipes"
   ]
  },
  {
   "cell_type": "code",
   "execution_count": 17,
   "metadata": {},
   "outputs": [],
   "source": [
    "def plot_learning_curve(X_train, y_train, model):\n",
    "    \"\"\"\n",
    "    Plots learning curve for model\n",
    "    \"\"\"\n",
    "    train_sizes, train_scores, test_scores = learning_curve(model, X_train, y_train, cv = None, scoring='accuracy',train_sizes = np.linspace(0.1, 1.0, 10))\n",
    "\n",
    "    train_mean = np.mean(train_scores, axis=1)\n",
    "    test_mean = np.mean(test_scores, axis=1)\n",
    "\n",
    "    plt.figure(0)\n",
    "    plt.gcf().set_facecolor('white')\n",
    "    plt.plot(train_sizes, train_mean, color='blue', marker='o', markersize=5, label= 'Training Accuracy')\n",
    "    plt.plot(train_sizes, test_mean, color='green', marker='+', markersize=5, label= 'Testing Accuracy')\n",
    "    plt.title('Learning Curve')\n",
    "    plt.xlabel('Training Data Size')\n",
    "    plt.ylabel('Accuracy')\n",
    "    plt.grid()\n",
    "    plt.legend(loc='lower right')"
   ]
  },
  {
   "cell_type": "code",
   "execution_count": 19,
   "metadata": {},
   "outputs": [
    {
     "data": {
      "image/png": "[encoded data removed]",
      "text/plain": [
       "<Figure size 432x288 with 1 Axes>"
      ]
     },
     "metadata": {},
     "output_type": "display_data"
    }
   ],
   "source": [
    "plot_learning_curve(X_train, y_train, pipes[2])"
   ]
  },
  {
   "cell_type": "markdown",
   "metadata": {},
   "source": [
    "## Model Assessment"
   ]
  },
  {
   "cell_type": "code",
   "execution_count": 20,
   "metadata": {},
   "outputs": [
    {
     "data": {
      "text/plain": [
       "Pipeline(steps=[('models', GradientBoostingClassifier(random_state=123))])"
      ]
     },
     "execution_count": 20,
     "metadata": {},
     "output_type": "execute_result"
    }
   ],
   "source": [
    "# Select model for test set\n",
    "selected_model = pipes[2]\n",
    "selected_model.fit(X_train, y_train)"
   ]
  },
  {
   "cell_type": "code",
   "execution_count": 21,
   "metadata": {},
   "outputs": [
    {
     "data": {
      "text/plain": [
       "0.8380965040542336"
      ]
     },
     "execution_count": 21,
     "metadata": {},
     "output_type": "execute_result"
    }
   ],
   "source": [
    "# Final performance metrics\n",
    "y_pred = selected_model.predict(X_test)\n",
    "acc = accuracy_score(y_test, y_pred)\n",
    "acc"
   ]
  },
  {
   "cell_type": "code",
   "execution_count": 22,
   "metadata": {},
   "outputs": [
    {
     "data": {
      "text/plain": [
       "[Text(0.5, 1.0, 'ConnectionResetErrorPermutation Importances (test set)'),\n",
       " Text(0.5, 0, 'Decrease in accuracy score'),\n",
       " Text(0, 0.5, 'Feature')]"
      ]
     },
     "execution_count": 22,
     "metadata": {},
     "output_type": "execute_result"
    },
    {
     "data": {
      "image/png": "[encoded data removed]",
      "text/plain": [
       "<Figure size 432x288 with 1 Axes>"
      ]
     },
     "metadata": {},
     "output_type": "display_data"
    }
   ],
   "source": [
    "# Feature Importance\n",
    "result = permutation_importance(\n",
    "    selected_model, X_test, y_test, scoring = 'accuracy', n_repeats=10, random_state=123, n_jobs=2)\n",
    "\n",
    "sorted_importances_idx = result.importances_mean.argsort()\n",
    "importances = pd.DataFrame(\n",
    "    result.importances[sorted_importances_idx].T,\n",
    "    columns=X.columns[sorted_importances_idx],\n",
    ")\n",
    "\n",
    "cols = list(importances.columns)\n",
    "cols.reverse()\n",
    "\n",
    "plt.gcf().set_facecolor('white')\n",
    "sns.boxenplot(data=importances, orient='h', order = cols).set(title = 'ConnectionResetErrorPermutation Importances (test set)', \n",
    "                                                                        xlabel= 'Decrease in accuracy score',\n",
    "                                                                        ylabel= 'Feature')"
   ]
  },
  {
   "cell_type": "code",
   "execution_count": 23,
   "metadata": {},
   "outputs": [
    {
     "data": {
      "image/png": "[encoded data removed]",
      "text/plain": [
       "<Figure size 480x320 with 2 Axes>"
      ]
     },
     "metadata": {},
     "output_type": "display_data"
    }
   ],
   "source": [
    "# Confusion matrix heat map\n",
    "# Confusion Matrix\n",
    "cv_confusion = confusion_matrix(y_test, y_pred)\n",
    "\n",
    "plt.figure(dpi=80)\n",
    "sns.heatmap(cv_confusion, cmap=plt.cm.Blues, annot=True, square=True, fmt=\"d\",\n",
    "           xticklabels=['Female', 'Male'],\n",
    "           yticklabels=['Female', 'Male'])\n",
    "plt.gcf().set_facecolor('white')\n",
    "plt.xlabel('Predicted')\n",
    "plt.ylabel('Actual')\n",
    "plt.title('Gradient Boosted Confustion Matrix');"
   ]
  },
  {
   "cell_type": "code",
   "execution_count": 24,
   "metadata": {},
   "outputs": [
    {
     "name": "stderr",
     "output_type": "stream",
     "text": [
      "c:\\Users\\mcarney\\Anaconda3\\lib\\site-packages\\sklearn\\metrics\\_classification.py:1318: UndefinedMetricWarning: Precision is ill-defined and being set to 0.0 due to no predicted samples. Use `zero_division` parameter to control this behavior.\n",
      "  _warn_prf(average, modifier, msg_start, len(result))\n"
     ]
    },
    {
     "data": {
      "text/html": [
       "<div>\n",
       "<style scoped>\n",
       "    .dataframe tbody tr th:only-of-type {\n",
       "        vertical-align: middle;\n",
       "    }\n",
       "\n",
       "    .dataframe tbody tr th {\n",
       "        vertical-align: top;\n",
       "    }\n",
       "\n",
       "    .dataframe thead th {\n",
       "        text-align: right;\n",
       "    }\n",
       "</style>\n",
       "<table border=\"1\" class=\"dataframe\">\n",
       "  <thead>\n",
       "    <tr style=\"text-align: right;\">\n",
       "      <th></th>\n",
       "      <th>Threshold</th>\n",
       "      <th>F1 Score</th>\n",
       "      <th>Precision</th>\n",
       "      <th>Recall</th>\n",
       "      <th>True_Negative</th>\n",
       "      <th>False_Positive</th>\n",
       "      <th>False_Negative</th>\n",
       "      <th>True_Positive</th>\n",
       "    </tr>\n",
       "  </thead>\n",
       "  <tbody>\n",
       "    <tr>\n",
       "      <th>0</th>\n",
       "      <td>0.0</td>\n",
       "      <td>0.783277</td>\n",
       "      <td>0.643759</td>\n",
       "      <td>1.000000</td>\n",
       "      <td>0</td>\n",
       "      <td>2680</td>\n",
       "      <td>0</td>\n",
       "      <td>4843</td>\n",
       "    </tr>\n",
       "    <tr>\n",
       "      <th>1</th>\n",
       "      <td>0.1</td>\n",
       "      <td>0.824998</td>\n",
       "      <td>0.703968</td>\n",
       "      <td>0.996283</td>\n",
       "      <td>651</td>\n",
       "      <td>2029</td>\n",
       "      <td>18</td>\n",
       "      <td>4825</td>\n",
       "    </tr>\n",
       "    <tr>\n",
       "      <th>2</th>\n",
       "      <td>0.2</td>\n",
       "      <td>0.844192</td>\n",
       "      <td>0.741105</td>\n",
       "      <td>0.980591</td>\n",
       "      <td>1021</td>\n",
       "      <td>1659</td>\n",
       "      <td>94</td>\n",
       "      <td>4749</td>\n",
       "    </tr>\n",
       "    <tr>\n",
       "      <th>3</th>\n",
       "      <td>0.3</td>\n",
       "      <td>0.858755</td>\n",
       "      <td>0.777815</td>\n",
       "      <td>0.958497</td>\n",
       "      <td>1354</td>\n",
       "      <td>1326</td>\n",
       "      <td>201</td>\n",
       "      <td>4642</td>\n",
       "    </tr>\n",
       "    <tr>\n",
       "      <th>4</th>\n",
       "      <td>0.4</td>\n",
       "      <td>0.871517</td>\n",
       "      <td>0.832894</td>\n",
       "      <td>0.913896</td>\n",
       "      <td>1792</td>\n",
       "      <td>888</td>\n",
       "      <td>417</td>\n",
       "      <td>4426</td>\n",
       "    </tr>\n",
       "    <tr>\n",
       "      <th>5</th>\n",
       "      <td>0.5</td>\n",
       "      <td>0.870701</td>\n",
       "      <td>0.896002</td>\n",
       "      <td>0.846789</td>\n",
       "      <td>2204</td>\n",
       "      <td>476</td>\n",
       "      <td>742</td>\n",
       "      <td>4101</td>\n",
       "    </tr>\n",
       "    <tr>\n",
       "      <th>6</th>\n",
       "      <td>0.6</td>\n",
       "      <td>0.852961</td>\n",
       "      <td>0.937856</td>\n",
       "      <td>0.782160</td>\n",
       "      <td>2429</td>\n",
       "      <td>251</td>\n",
       "      <td>1055</td>\n",
       "      <td>3788</td>\n",
       "    </tr>\n",
       "    <tr>\n",
       "      <th>7</th>\n",
       "      <td>0.7</td>\n",
       "      <td>0.838371</td>\n",
       "      <td>0.964037</td>\n",
       "      <td>0.741689</td>\n",
       "      <td>2546</td>\n",
       "      <td>134</td>\n",
       "      <td>1251</td>\n",
       "      <td>3592</td>\n",
       "    </tr>\n",
       "    <tr>\n",
       "      <th>8</th>\n",
       "      <td>0.8</td>\n",
       "      <td>0.820881</td>\n",
       "      <td>0.976917</td>\n",
       "      <td>0.707826</td>\n",
       "      <td>2599</td>\n",
       "      <td>81</td>\n",
       "      <td>1415</td>\n",
       "      <td>3428</td>\n",
       "    </tr>\n",
       "    <tr>\n",
       "      <th>9</th>\n",
       "      <td>0.9</td>\n",
       "      <td>0.778098</td>\n",
       "      <td>0.989484</td>\n",
       "      <td>0.641132</td>\n",
       "      <td>2647</td>\n",
       "      <td>33</td>\n",
       "      <td>1738</td>\n",
       "      <td>3105</td>\n",
       "    </tr>\n",
       "    <tr>\n",
       "      <th>10</th>\n",
       "      <td>1.0</td>\n",
       "      <td>0.000000</td>\n",
       "      <td>0.000000</td>\n",
       "      <td>0.000000</td>\n",
       "      <td>2680</td>\n",
       "      <td>0</td>\n",
       "      <td>4843</td>\n",
       "      <td>0</td>\n",
       "    </tr>\n",
       "  </tbody>\n",
       "</table>\n",
       "</div>"
      ],
      "text/plain": [
       "    Threshold  F1 Score  Precision    Recall  True_Negative  False_Positive  \\\n",
       "0         0.0  0.783277   0.643759  1.000000              0            2680   \n",
       "1         0.1  0.824998   0.703968  0.996283            651            2029   \n",
       "2         0.2  0.844192   0.741105  0.980591           1021            1659   \n",
       "3         0.3  0.858755   0.777815  0.958497           1354            1326   \n",
       "4         0.4  0.871517   0.832894  0.913896           1792             888   \n",
       "5         0.5  0.870701   0.896002  0.846789           2204             476   \n",
       "6         0.6  0.852961   0.937856  0.782160           2429             251   \n",
       "7         0.7  0.838371   0.964037  0.741689           2546             134   \n",
       "8         0.8  0.820881   0.976917  0.707826           2599              81   \n",
       "9         0.9  0.778098   0.989484  0.641132           2647              33   \n",
       "10        1.0  0.000000   0.000000  0.000000           2680               0   \n",
       "\n",
       "    False_Negative  True_Positive  \n",
       "0                0           4843  \n",
       "1               18           4825  \n",
       "2               94           4749  \n",
       "3              201           4642  \n",
       "4              417           4426  \n",
       "5              742           4101  \n",
       "6             1055           3788  \n",
       "7             1251           3592  \n",
       "8             1415           3428  \n",
       "9             1738           3105  \n",
       "10            4843              0  "
      ]
     },
     "execution_count": 24,
     "metadata": {},
     "output_type": "execute_result"
    }
   ],
   "source": [
    "#Generate data frame of model test statistics\n",
    "y_probs = selected_model.predict_proba(X_test)[:,1]\n",
    "thresholds = []\n",
    "f1 = []\n",
    "precisions = []\n",
    "recall = []\n",
    "tn = []\n",
    "fp = []\n",
    "fn = []\n",
    "tp = []\n",
    "\n",
    "for t in range(0,105,10):\n",
    "    y_pred = pd.Series(y_probs).apply(lambda x: 0 if x<t/100 else 1)\n",
    "    thresholds.append(t/100)\n",
    "    f1.append(f1_score(y_test, y_pred))\n",
    "    precisions.append(precision_score(y_test, y_pred))\n",
    "    recall.append(recall_score(y_test, y_pred))\n",
    "    tn.append(confusion_matrix(y_test, y_pred)[0][0])\n",
    "    fp.append(confusion_matrix(y_test, y_pred)[0][1])\n",
    "    fn.append(confusion_matrix(y_test, y_pred)[1][0])\n",
    "    tp.append(confusion_matrix(y_test, y_pred)[1][1])\n",
    "    \n",
    "\n",
    "test_statistics = pd.DataFrame(\n",
    "    {'Threshold': thresholds,\n",
    "     'F1 Score' : f1,\n",
    "     'Precision': precisions,\n",
    "     'Recall' : recall,\n",
    "     'True_Negative': tn,\n",
    "     'False_Positive': fp,\n",
    "     'False_Negative': fn,\n",
    "     'True_Positive': tp,\n",
    "    })\n",
    "\n",
    "test_statistics"
   ]
  },
  {
   "cell_type": "code",
   "execution_count": 127,
   "metadata": {},
   "outputs": [
    {
     "data": {
      "text/plain": [
       "Text(0.5, 0, 'Threshold')"
      ]
     },
     "execution_count": 127,
     "metadata": {},
     "output_type": "execute_result"
    },
    {
     "data": {
      "image/png": "[encoded data removed]",
      "text/plain": [
       "<Figure size 432x288 with 1 Axes>"
      ]
     },
     "metadata": {
      "needs_background": "light"
     },
     "output_type": "display_data"
    }
   ],
   "source": [
    "plt.stackplot(areaplot['Threshold'], areaplot['Over Budget'])\n",
    "plt.title('Net Predicted Budget vs Threshold')\n",
    "plt.ylabel('Net Predicted Budget ($)')\n",
    "plt.xlabel('Threshold')"
   ]
  },
  {
   "cell_type": "code",
   "execution_count": 128,
   "metadata": {},
   "outputs": [
    {
     "name": "stderr",
     "output_type": "stream",
     "text": [
      "C:\\Users\\mcarney\\AppData\\Local\\Temp/ipykernel_18988/200036397.py:2: SettingWithCopyWarning: \n",
      "A value is trying to be set on a copy of a slice from a DataFrame.\n",
      "Try using .loc[row_indexer,col_indexer] = value instead\n",
      "\n",
      "See the caveats in the documentation: https://pandas.pydata.org/pandas-docs/stable/user_guide/indexing.html#returning-a-view-versus-a-copy\n",
      "  areaplot['Predicted Cost'] = (test_statistics['False_Positive'] + test_statistics['True_Positive']) *50000\n",
      "C:\\Users\\mcarney\\AppData\\Local\\Temp/ipykernel_18988/200036397.py:3: SettingWithCopyWarning: \n",
      "A value is trying to be set on a copy of a slice from a DataFrame.\n",
      "Try using .loc[row_indexer,col_indexer] = value instead\n",
      "\n",
      "See the caveats in the documentation: https://pandas.pydata.org/pandas-docs/stable/user_guide/indexing.html#returning-a-view-versus-a-copy\n",
      "  areaplot['Actual Cost'] = (test_statistics['False_Negative'] + test_statistics['True_Positive']) * 50000\n"
     ]
    }
   ],
   "source": [
    "areaplot = test_statistics[['Threshold', 'False_Positive', 'False_Negative', 'True_Positive']]\n",
    "areaplot['Predicted Cost'] = (test_statistics['False_Positive'] + test_statistics['True_Positive']) *50000\n",
    "areaplot['Actual Cost'] = (test_statistics['False_Negative'] + test_statistics['True_Positive']) * 50000\n",
    "#areaplot['Actual Cost'] = (180000 - areaplot['Predicted Cost'])\n",
    "areaplot['Over Budget'] = areaplot['Predicted Cost'] - 1800000\n",
    "#areapl = areaplot[['Threshold', 'Predicted Cost', 'Actual Cost']]"
   ]
  },
  {
   "cell_type": "code",
   "execution_count": null,
   "metadata": {},
   "outputs": [],
   "source": []
  }
 ],
 "metadata": {
  "kernelspec": {
   "display_name": "Python 3.9.7 ('base')",
   "language": "python",
   "name": "python3"
  },
  "language_info": {
   "codemirror_mode": {
    "name": "ipython",
    "version": 3
   },
   "file_extension": ".py",
   "mimetype": "text/x-python",
   "name": "python",
   "nbconvert_exporter": "python",
   "pygments_lexer": "ipython3",
   "version": "3.9.7"
  },
  "orig_nbformat": 4,
  "vscode": {
   "interpreter": {
    "hash": "01ad78d966099ed9862b86a390874b9333c105ea4e4903e73ac58375f35e21c4"
   }
  }
 },
 "nbformat": 4,
 "nbformat_minor": 2
}
